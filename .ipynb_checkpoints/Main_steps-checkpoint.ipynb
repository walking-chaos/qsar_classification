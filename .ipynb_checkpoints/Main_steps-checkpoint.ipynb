{
 "cells": [
  {
   "cell_type": "code",
   "execution_count": 1,
   "id": "arranged-lying",
   "metadata": {},
   "outputs": [],
   "source": [
    "import pandas as pd\n",
    "import numpy as np\n",
    "from classification import *"
   ]
  },
  {
   "cell_type": "markdown",
   "id": "intensive-fifth",
   "metadata": {},
   "source": [
    "# Loading data\n",
    "Your data should be loaded as .csv file containing such feature as 'pIC50' (column MUST BE named so) and also the set of descriptors which you want to use."
   ]
  },
  {
   "cell_type": "code",
   "execution_count": 2,
   "id": "conservative-congress",
   "metadata": {
    "scrolled": true
   },
   "outputs": [
    {
     "data": {
      "text/html": [
       "<div>\n",
       "<style scoped>\n",
       "    .dataframe tbody tr th:only-of-type {\n",
       "        vertical-align: middle;\n",
       "    }\n",
       "\n",
       "    .dataframe tbody tr th {\n",
       "        vertical-align: top;\n",
       "    }\n",
       "\n",
       "    .dataframe thead th {\n",
       "        text-align: right;\n",
       "    }\n",
       "</style>\n",
       "<table border=\"1\" class=\"dataframe\">\n",
       "  <thead>\n",
       "    <tr style=\"text-align: right;\">\n",
       "      <th></th>\n",
       "      <th>molecule_chembl_id</th>\n",
       "      <th>Smiles</th>\n",
       "      <th>pIC50</th>\n",
       "      <th>bioactivity_class</th>\n",
       "      <th>mol</th>\n",
       "      <th>mr</th>\n",
       "      <th>logp</th>\n",
       "      <th>mw</th>\n",
       "      <th>balabanJ</th>\n",
       "      <th>bertzCT</th>\n",
       "      <th>tpsa</th>\n",
       "      <th>labuteASA</th>\n",
       "      <th>numHBA</th>\n",
       "      <th>numHBD</th>\n",
       "    </tr>\n",
       "  </thead>\n",
       "  <tbody>\n",
       "    <tr>\n",
       "      <th>0</th>\n",
       "      <td>CHEMBL3404003</td>\n",
       "      <td>COCCCOc1cc(C(=O)N(C[C@@H]2CNC[C@H]2OC(=O)N(C)C...</td>\n",
       "      <td>7.523</td>\n",
       "      <td>1</td>\n",
       "      <td>&lt;rdkit.Chem.rdchem.Mol object at 0x000002E58BA...</td>\n",
       "      <td>158.8702</td>\n",
       "      <td>4.4274</td>\n",
       "      <td>584.739</td>\n",
       "      <td>1.387979</td>\n",
       "      <td>1282.128385</td>\n",
       "      <td>102.46</td>\n",
       "      <td>245.075113</td>\n",
       "      <td>9</td>\n",
       "      <td>1</td>\n",
       "    </tr>\n",
       "    <tr>\n",
       "      <th>1</th>\n",
       "      <td>CHEMBL3403999</td>\n",
       "      <td>COCCCOc1cc(C(=O)N(C[C@@H]2CNC[C@H]2OC(=O)NCc2c...</td>\n",
       "      <td>7.046</td>\n",
       "      <td>1</td>\n",
       "      <td>&lt;rdkit.Chem.rdchem.Mol object at 0x000002E58BF...</td>\n",
       "      <td>133.3309</td>\n",
       "      <td>3.0685</td>\n",
       "      <td>503.596</td>\n",
       "      <td>1.632150</td>\n",
       "      <td>964.452342</td>\n",
       "      <td>111.50</td>\n",
       "      <td>211.752852</td>\n",
       "      <td>8</td>\n",
       "      <td>2</td>\n",
       "    </tr>\n",
       "    <tr>\n",
       "      <th>2</th>\n",
       "      <td>CHEMBL4109808</td>\n",
       "      <td>COCCCOc1ccc([C@@H](C)N(C(=O)[C@H]2CNCCO2)C2CC2...</td>\n",
       "      <td>7.469</td>\n",
       "      <td>1</td>\n",
       "      <td>&lt;rdkit.Chem.rdchem.Mol object at 0x000002E58BF...</td>\n",
       "      <td>121.3107</td>\n",
       "      <td>2.5576</td>\n",
       "      <td>450.576</td>\n",
       "      <td>1.732491</td>\n",
       "      <td>705.729893</td>\n",
       "      <td>78.49</td>\n",
       "      <td>191.027643</td>\n",
       "      <td>7</td>\n",
       "      <td>1</td>\n",
       "    </tr>\n",
       "    <tr>\n",
       "      <th>3</th>\n",
       "      <td>CHEMBL557193</td>\n",
       "      <td>CCCCNC(=O)[C@H](C)C[C@H](O)[C@@H](N)C[C@H](Cc1...</td>\n",
       "      <td>9.000</td>\n",
       "      <td>1</td>\n",
       "      <td>&lt;rdkit.Chem.rdchem.Mol object at 0x000002E58BF...</td>\n",
       "      <td>144.5599</td>\n",
       "      <td>4.3678</td>\n",
       "      <td>517.151</td>\n",
       "      <td>0.000012</td>\n",
       "      <td>704.149228</td>\n",
       "      <td>103.04</td>\n",
       "      <td>218.434425</td>\n",
       "      <td>6</td>\n",
       "      <td>3</td>\n",
       "    </tr>\n",
       "    <tr>\n",
       "      <th>4</th>\n",
       "      <td>CHEMBL4114302</td>\n",
       "      <td>COC(=O)NCCCn1nc([C@@H](C)N(C(=O)[C@H]2CNCCO2)C...</td>\n",
       "      <td>8.444</td>\n",
       "      <td>1</td>\n",
       "      <td>&lt;rdkit.Chem.rdchem.Mol object at 0x000002E58BF...</td>\n",
       "      <td>113.4454</td>\n",
       "      <td>1.2178</td>\n",
       "      <td>430.509</td>\n",
       "      <td>1.540630</td>\n",
       "      <td>921.730758</td>\n",
       "      <td>110.61</td>\n",
       "      <td>180.812111</td>\n",
       "      <td>8</td>\n",
       "      <td>2</td>\n",
       "    </tr>\n",
       "  </tbody>\n",
       "</table>\n",
       "</div>"
      ],
      "text/plain": [
       "  molecule_chembl_id                                             Smiles  \\\n",
       "0      CHEMBL3404003  COCCCOc1cc(C(=O)N(C[C@@H]2CNC[C@H]2OC(=O)N(C)C...   \n",
       "1      CHEMBL3403999  COCCCOc1cc(C(=O)N(C[C@@H]2CNC[C@H]2OC(=O)NCc2c...   \n",
       "2      CHEMBL4109808  COCCCOc1ccc([C@@H](C)N(C(=O)[C@H]2CNCCO2)C2CC2...   \n",
       "3       CHEMBL557193  CCCCNC(=O)[C@H](C)C[C@H](O)[C@@H](N)C[C@H](Cc1...   \n",
       "4      CHEMBL4114302  COC(=O)NCCCn1nc([C@@H](C)N(C(=O)[C@H]2CNCCO2)C...   \n",
       "\n",
       "   pIC50  bioactivity_class  \\\n",
       "0  7.523                  1   \n",
       "1  7.046                  1   \n",
       "2  7.469                  1   \n",
       "3  9.000                  1   \n",
       "4  8.444                  1   \n",
       "\n",
       "                                                 mol        mr    logp  \\\n",
       "0  <rdkit.Chem.rdchem.Mol object at 0x000002E58BA...  158.8702  4.4274   \n",
       "1  <rdkit.Chem.rdchem.Mol object at 0x000002E58BF...  133.3309  3.0685   \n",
       "2  <rdkit.Chem.rdchem.Mol object at 0x000002E58BF...  121.3107  2.5576   \n",
       "3  <rdkit.Chem.rdchem.Mol object at 0x000002E58BF...  144.5599  4.3678   \n",
       "4  <rdkit.Chem.rdchem.Mol object at 0x000002E58BF...  113.4454  1.2178   \n",
       "\n",
       "        mw  balabanJ      bertzCT    tpsa   labuteASA  numHBA  numHBD  \n",
       "0  584.739  1.387979  1282.128385  102.46  245.075113       9       1  \n",
       "1  503.596  1.632150   964.452342  111.50  211.752852       8       2  \n",
       "2  450.576  1.732491   705.729893   78.49  191.027643       7       1  \n",
       "3  517.151  0.000012   704.149228  103.04  218.434425       6       3  \n",
       "4  430.509  1.540630   921.730758  110.61  180.812111       8       2  "
      ]
     },
     "execution_count": 2,
     "metadata": {},
     "output_type": "execute_result"
    }
   ],
   "source": [
    "data = pd.read_csv('data_descriptors.csv', index_col=0)\n",
    "data.head()"
   ]
  },
  {
   "cell_type": "markdown",
   "id": "stock-creature",
   "metadata": {},
   "source": [
    "# Choosing descriptors\n",
    "To choose descriptors you can change list cols_we need, use names of descriptors like they are mentioned in your DataFrame."
   ]
  },
  {
   "cell_type": "code",
   "execution_count": 3,
   "id": "amended-devices",
   "metadata": {},
   "outputs": [],
   "source": [
    "cols_we_need = ['mr', 'logp', 'mw', 'bertzCT', 'tpsa', 'numHBA', 'numHBD']"
   ]
  },
  {
   "cell_type": "markdown",
   "id": "dominican-belarus",
   "metadata": {},
   "source": [
    "# Descriptive statistics\n",
    "This function counts max, min, mode, median and Shapiro-Wilk test's results for all choosen descriptors."
   ]
  },
  {
   "cell_type": "code",
   "execution_count": 4,
   "id": "located-electronics",
   "metadata": {},
   "outputs": [
    {
     "name": "stdout",
     "output_type": "stream",
     "text": [
      "mr\n",
      "Max: 333.4982000000005\n",
      "Min: 26.5994\n",
      "Mode: [154.5433]\n",
      "Median: 146.4161999999998\n",
      "Mean: 150.86467607305917\n",
      "Shapiro-Wilk test: ShapiroResult(statistic=0.9517819881439209, pvalue=2.903263278412356e-26)\n",
      "Variance: 923.8416298307679\n",
      "Standart deviation: 30.39476319747808\n",
      "Range of values (max-min): 306.8988000000005\n",
      "logp\n",
      "Max: 9.076300000000002\n",
      "Min: -1.918099999999992\n",
      "Mode: [3.2935]\n",
      "Median: 3.9786500000000027\n",
      "Mean: 4.159972059360735\n",
      "Shapiro-Wilk test: ShapiroResult(statistic=0.9625903964042664, pvalue=2.3077035576469685e-23)\n",
      "Variance: 2.4088796525654894\n",
      "Standart deviation: 1.552056588068067\n",
      "Range of values (max-min): 10.994399999999994\n",
      "mw\n",
      "Max: 1219.6099999999994\n",
      "Min: 97.11699999999998\n",
      "Mode: [551.769]\n",
      "Median: 535.4720000000003\n",
      "Mean: 553.441874429224\n",
      "Shapiro-Wilk test: ShapiroResult(statistic=0.9526662826538086, pvalue=4.792038490461264e-26)\n",
      "Variance: 13284.00672897828\n",
      "Standart deviation: 115.25626546517235\n",
      "Range of values (max-min): 1122.4929999999995\n",
      "bertzCT\n",
      "Max: 2812.2904030981963\n",
      "Min: 122.6360943641228\n",
      "Mode: [889.44863449]\n",
      "Median: 1150.5833745739692\n",
      "Mean: 1167.3007388936696\n",
      "Shapiro-Wilk test: ShapiroResult(statistic=0.960281491279602, pvalue=4.955484972648625e-24)\n",
      "Variance: 104002.7543104792\n",
      "Standart deviation: 322.49458028078425\n",
      "Range of values (max-min): 2689.6543087340733\n",
      "tpsa\n",
      "Max: 397.43\n",
      "Min: 15.27\n",
      "Mode: [69.26]\n",
      "Median: 91.93\n",
      "Mean: 104.10808675799088\n",
      "Shapiro-Wilk test: ShapiroResult(statistic=0.8935503363609314, pvalue=1.783115839672482e-36)\n",
      "Variance: 2293.731563691103\n",
      "Standart deviation: 47.89291767778513\n",
      "Range of values (max-min): 382.16\n",
      "numHBA\n",
      "Max: 17\n",
      "Min: 2\n",
      "Mode: [6]\n",
      "Median: 6.0\n",
      "Mean: 6.12283105022831\n",
      "Shapiro-Wilk test: ShapiroResult(statistic=0.9484046101570129, pvalue=4.55784148032669e-27)\n",
      "Variance: 2.981716186067847\n",
      "Standart deviation: 1.7267646585646368\n",
      "Range of values (max-min): 15\n",
      "numHBD\n",
      "Max: 14\n",
      "Min: 1\n",
      "Mode: [1]\n",
      "Median: 2.0\n",
      "Mean: 2.6315068493150684\n",
      "Shapiro-Wilk test: ShapiroResult(statistic=0.8543135523796082, pvalue=5.218575610992051e-41)\n",
      "Variance: 2.7258566335147307\n",
      "Standart deviation: 1.65101684834369\n",
      "Range of values (max-min): 13\n"
     ]
    },
    {
     "data": {
      "image/png": "[encoded data removed]",
      "text/plain": [
       "<Figure size 360x360 with 1 Axes>"
      ]
     },
     "metadata": {
      "needs_background": "light"
     },
     "output_type": "display_data"
    },
    {
     "data": {
      "image/png": "[encoded data removed]",
      "text/plain": [
       "<Figure size 360x360 with 1 Axes>"
      ]
     },
     "metadata": {
      "needs_background": "light"
     },
     "output_type": "display_data"
    },
    {
     "data": {
      "image/png": "[encoded data removed]",
      "text/plain": [
       "<Figure size 360x360 with 1 Axes>"
      ]
     },
     "metadata": {
      "needs_background": "light"
     },
     "output_type": "display_data"
    },
    {
     "data": {
      "image/png": "[encoded data removed]",
      "text/plain": [
       "<Figure size 360x360 with 1 Axes>"
      ]
     },
     "metadata": {
      "needs_background": "light"
     },
     "output_type": "display_data"
    },
    {
     "data": {
      "image/png": "[encoded data removed]",
      "text/plain": [
       "<Figure size 360x360 with 1 Axes>"
      ]
     },
     "metadata": {
      "needs_background": "light"
     },
     "output_type": "display_data"
    },
    {
     "data": {
      "image/png": "[encoded data removed]",
      "text/plain": [
       "<Figure size 360x360 with 1 Axes>"
      ]
     },
     "metadata": {
      "needs_background": "light"
     },
     "output_type": "display_data"
    },
    {
     "data": {
      "image/png": "[encoded data removed]",
      "text/plain": [
       "<Figure size 360x360 with 1 Axes>"
      ]
     },
     "metadata": {
      "needs_background": "light"
     },
     "output_type": "display_data"
    }
   ],
   "source": [
    "stats_data(data, cols_we_need)"
   ]
  },
  {
   "cell_type": "markdown",
   "id": "classical-sodium",
   "metadata": {},
   "source": [
    "# Correlation table\n",
    "This function displays correlation coefficients within all descriptors."
   ]
  },
  {
   "cell_type": "code",
   "execution_count": 5,
   "id": "forced-shock",
   "metadata": {
    "scrolled": true
   },
   "outputs": [
    {
     "data": {
      "text/html": [
       "<div>\n",
       "<style scoped>\n",
       "    .dataframe tbody tr th:only-of-type {\n",
       "        vertical-align: middle;\n",
       "    }\n",
       "\n",
       "    .dataframe tbody tr th {\n",
       "        vertical-align: top;\n",
       "    }\n",
       "\n",
       "    .dataframe thead th {\n",
       "        text-align: right;\n",
       "    }\n",
       "</style>\n",
       "<table border=\"1\" class=\"dataframe\">\n",
       "  <thead>\n",
       "    <tr style=\"text-align: right;\">\n",
       "      <th></th>\n",
       "      <th>mr</th>\n",
       "      <th>logp</th>\n",
       "      <th>mw</th>\n",
       "      <th>bertzCT</th>\n",
       "      <th>tpsa</th>\n",
       "      <th>numHBA</th>\n",
       "      <th>numHBD</th>\n",
       "    </tr>\n",
       "  </thead>\n",
       "  <tbody>\n",
       "    <tr>\n",
       "      <th>mr</th>\n",
       "      <td>1.000000</td>\n",
       "      <td>0.255753</td>\n",
       "      <td>0.978543</td>\n",
       "      <td>0.711178</td>\n",
       "      <td>0.671694</td>\n",
       "      <td>0.609587</td>\n",
       "      <td>0.571185</td>\n",
       "    </tr>\n",
       "    <tr>\n",
       "      <th>logp</th>\n",
       "      <td>0.255753</td>\n",
       "      <td>1.000000</td>\n",
       "      <td>0.237950</td>\n",
       "      <td>0.357979</td>\n",
       "      <td>-0.423071</td>\n",
       "      <td>-0.411030</td>\n",
       "      <td>-0.372722</td>\n",
       "    </tr>\n",
       "    <tr>\n",
       "      <th>mw</th>\n",
       "      <td>0.978543</td>\n",
       "      <td>0.237950</td>\n",
       "      <td>1.000000</td>\n",
       "      <td>0.727502</td>\n",
       "      <td>0.686396</td>\n",
       "      <td>0.609306</td>\n",
       "      <td>0.582699</td>\n",
       "    </tr>\n",
       "    <tr>\n",
       "      <th>bertzCT</th>\n",
       "      <td>0.711178</td>\n",
       "      <td>0.357979</td>\n",
       "      <td>0.727502</td>\n",
       "      <td>1.000000</td>\n",
       "      <td>0.334741</td>\n",
       "      <td>0.313826</td>\n",
       "      <td>0.211547</td>\n",
       "    </tr>\n",
       "    <tr>\n",
       "      <th>tpsa</th>\n",
       "      <td>0.671694</td>\n",
       "      <td>-0.423071</td>\n",
       "      <td>0.686396</td>\n",
       "      <td>0.334741</td>\n",
       "      <td>1.000000</td>\n",
       "      <td>0.809697</td>\n",
       "      <td>0.906156</td>\n",
       "    </tr>\n",
       "    <tr>\n",
       "      <th>numHBA</th>\n",
       "      <td>0.609587</td>\n",
       "      <td>-0.411030</td>\n",
       "      <td>0.609306</td>\n",
       "      <td>0.313826</td>\n",
       "      <td>0.809697</td>\n",
       "      <td>1.000000</td>\n",
       "      <td>0.564286</td>\n",
       "    </tr>\n",
       "    <tr>\n",
       "      <th>numHBD</th>\n",
       "      <td>0.571185</td>\n",
       "      <td>-0.372722</td>\n",
       "      <td>0.582699</td>\n",
       "      <td>0.211547</td>\n",
       "      <td>0.906156</td>\n",
       "      <td>0.564286</td>\n",
       "      <td>1.000000</td>\n",
       "    </tr>\n",
       "  </tbody>\n",
       "</table>\n",
       "</div>"
      ],
      "text/plain": [
       "               mr      logp        mw   bertzCT      tpsa    numHBA    numHBD\n",
       "mr       1.000000  0.255753  0.978543  0.711178  0.671694  0.609587  0.571185\n",
       "logp     0.255753  1.000000  0.237950  0.357979 -0.423071 -0.411030 -0.372722\n",
       "mw       0.978543  0.237950  1.000000  0.727502  0.686396  0.609306  0.582699\n",
       "bertzCT  0.711178  0.357979  0.727502  1.000000  0.334741  0.313826  0.211547\n",
       "tpsa     0.671694 -0.423071  0.686396  0.334741  1.000000  0.809697  0.906156\n",
       "numHBA   0.609587 -0.411030  0.609306  0.313826  0.809697  1.000000  0.564286\n",
       "numHBD   0.571185 -0.372722  0.582699  0.211547  0.906156  0.564286  1.000000"
      ]
     },
     "metadata": {},
     "output_type": "display_data"
    }
   ],
   "source": [
    "cor_table(data, cols_we_need)"
   ]
  },
  {
   "cell_type": "markdown",
   "id": "arabic-discrimination",
   "metadata": {},
   "source": [
    "# Making test and train samples\n",
    "This function splits your dataset into X_train, X_test, y_train, y_test samples and compares train and test samples by t-test (if your descriptors distribute normally choose \"normal\") or Mann-Whitney test (if your secriptors distribute abnormally choose \"abnormal\")."
   ]
  },
  {
   "cell_type": "code",
   "execution_count": 6,
   "id": "human-extraction",
   "metadata": {
    "scrolled": true
   },
   "outputs": [
    {
     "name": "stdout",
     "output_type": "stream",
     "text": [
      "mr:\n",
      "MannwhitneyuResult(statistic=498232.5, pvalue=0.346394179978035)\n",
      "logp:\n",
      "MannwhitneyuResult(statistic=488492.0, pvalue=0.13277696769586989)\n",
      "mw:\n",
      "MannwhitneyuResult(statistic=500513.5, pvalue=0.4102631984156703)\n",
      "bertzCT:\n",
      "MannwhitneyuResult(statistic=486396.0, pvalue=0.10241256919683278)\n",
      "tpsa:\n",
      "MannwhitneyuResult(statistic=488574.5, pvalue=0.13407717309926265)\n",
      "numHBA:\n",
      "MannwhitneyuResult(statistic=497675.5, pvalue=0.3285944902706579)\n",
      "numHBD:\n",
      "MannwhitneyuResult(statistic=480719.5, pvalue=0.0414479522747999)\n"
     ]
    }
   ],
   "source": [
    "X_train, X_test, y_train, y_test = train_test(data, cols_we_need, \"abnormal\")"
   ]
  },
  {
   "cell_type": "markdown",
   "id": "specific-living",
   "metadata": {},
   "source": [
    "# Building QSAR-model"
   ]
  },
  {
   "cell_type": "markdown",
   "id": "sought-architect",
   "metadata": {},
   "source": [
    "# Choose algorithm from below:\n",
    "- \"random forest\" : Random Forest Classifier\n",
    "- \"logistic_regression\" : Logistic Regression\n",
    "- \"ridge_classifier\" : Ridge Classifier\n",
    "- \"knn_classifier\" : K-Nearest Neughbors\n",
    "- \"svm_classifier\" : SVM\n",
    "- \"gbc_classifier\" : Gradient Boosting Classifier\n",
    "- \"mlp_classifier\" : MLP Classifier"
   ]
  },
  {
   "cell_type": "code",
   "execution_count": 7,
   "id": "advance-pacific",
   "metadata": {},
   "outputs": [],
   "source": [
    "algorithm = \"knn_classifier\""
   ]
  },
  {
   "cell_type": "markdown",
   "id": "collaborative-qualification",
   "metadata": {},
   "source": [
    "# Choose threshold for bioactivity of your ligands\n",
    "Choose such number of \"pIC50\" that will be threshold of activity of your molecules. Molecules that have pIC50 more than threshold will be considered as active, others - as inactive."
   ]
  },
  {
   "cell_type": "code",
   "execution_count": 8,
   "id": "chinese-stuart",
   "metadata": {},
   "outputs": [],
   "source": [
    "threshold = 8.0"
   ]
  },
  {
   "cell_type": "markdown",
   "id": "advisory-therapist",
   "metadata": {},
   "source": [
    "# Choose hyperparameters for your model\n",
    "ATTENTION: you will have to choose parameters only for algorithm you will work with, name of dictionary in the next code step must be the one that you will tune here for selected algorithm."
   ]
  },
  {
   "cell_type": "code",
   "execution_count": 9,
   "id": "cellular-marine",
   "metadata": {},
   "outputs": [],
   "source": [
    "hyperparameters_rf = {'n_estimators' : [5, 10, 20, 50, 100, 200, 500, 800, 1000, 1500, 2000], \n",
    "              'max_depth' : [10, 20, 50, 100, 150, 250, 300, 350, 400, 450, 500, None], \n",
    "              'min_samples_split' : [2, 5, 10, 20],\n",
    "              'max_features' : ['auto', 'sqrt'],\n",
    "              'min_samples_leaf' : [1, 2, 4]}\n",
    "hyperparameters_log_reg = {'solver' : ['newton-cg', 'lbfgs', 'liblinear'],\n",
    "                           'penalty' : ['l2', 'l1', 'elasticnet', 'none'],\n",
    "                           'C' : [100, 10, 1.0, 0.1, 0.01]} \n",
    "hyperparameters_ridge = {'alpha' : [0.1, 0.2, 0.3, 0.4, 0.5, 0.6, 0.7, 0.8, 0.9, 1.0]}\n",
    "hyperparameters_knn = {'n_neighbors' : range(1, 31),\n",
    "                       'weights' : ['uniform', 'distance']}\n",
    "hyperparameters_svm = {'kernel' : ['poly', 'rbf', 'sigmoid'],\n",
    "                       'C' : [50, 10, 1.0, 0.1, 0.01]}\n",
    "hyperparameters_gbc = {'learning_rate' : [0.001, 0.01, 0.1],\n",
    "                       'n_estimators' : [10, 100, 1000],\n",
    "                       'subsample' : [0.5, 0.7, 1.0],\n",
    "                       'max_depth' : [3, 7, 9, 20, 30, 50, 100, 200]}\n",
    "hyperparameters_mlp = {'hidden_layer_sizes': [(50,50,50), (50,100,50), (100,)],\n",
    "    'activation': ['tanh', 'relu'],\n",
    "    'solver': ['sgd', 'adam'],\n",
    "    'alpha': [0.0001, 0.05],\n",
    "    'learning_rate': ['constant','adaptive']}"
   ]
  },
  {
   "cell_type": "markdown",
   "id": "covered-bibliography",
   "metadata": {},
   "source": [
    "# Start building classifier"
   ]
  },
  {
   "cell_type": "code",
   "execution_count": 10,
   "id": "elect-lender",
   "metadata": {},
   "outputs": [],
   "source": [
    "clf = Classifier(X_train, X_test, y_train, y_test, algorithm, threshold, hyperparameters_knn)"
   ]
  },
  {
   "cell_type": "code",
   "execution_count": 11,
   "id": "weekly-watts",
   "metadata": {},
   "outputs": [
    {
     "name": "stdout",
     "output_type": "stream",
     "text": [
      "Accuracy_test: 0.715372907153729 \n",
      "Accuracy_train: 0.9145466405740378 \n",
      "Precision score: 0.7103064066852368 \n",
      "Recall score: 0.7544378698224852 \n",
      "F1-score: 0.7317073170731707 \n",
      "ROC-AUC-score: 0.714209530522528\n"
     ]
    },
    {
     "data": {
      "image/png": "[encoded data removed]",
      "text/plain": [
       "<Figure size 432x288 with 2 Axes>"
      ]
     },
     "metadata": {
      "needs_background": "light"
     },
     "output_type": "display_data"
    },
    {
     "data": {
      "image/png": "[encoded data removed]",
      "text/plain": [
       "<Figure size 432x288 with 1 Axes>"
      ]
     },
     "metadata": {
      "needs_background": "light"
     },
     "output_type": "display_data"
    }
   ],
   "source": [
    "clf.model_building()"
   ]
  },
  {
   "cell_type": "markdown",
   "id": "difficult-blocking",
   "metadata": {},
   "source": [
    "# Getting your model parameters"
   ]
  },
  {
   "cell_type": "code",
   "execution_count": 12,
   "id": "innocent-assembly",
   "metadata": {},
   "outputs": [],
   "source": [
    "parameters = clf.model_parameters()"
   ]
  },
  {
   "cell_type": "code",
   "execution_count": 13,
   "id": "exciting-consequence",
   "metadata": {
    "scrolled": false
   },
   "outputs": [
    {
     "data": {
      "text/plain": [
       "{'algorithm': 'auto',\n",
       " 'leaf_size': 30,\n",
       " 'metric': 'minkowski',\n",
       " 'metric_params': None,\n",
       " 'n_jobs': None,\n",
       " 'n_neighbors': 17,\n",
       " 'p': 2,\n",
       " 'weights': 'distance'}"
      ]
     },
     "execution_count": 13,
     "metadata": {},
     "output_type": "execute_result"
    }
   ],
   "source": [
    "parameters"
   ]
  },
  {
   "cell_type": "markdown",
   "id": "crucial-camping",
   "metadata": {},
   "source": [
    "# Getting model metrics"
   ]
  },
  {
   "cell_type": "code",
   "execution_count": 14,
   "id": "sixth-fluid",
   "metadata": {},
   "outputs": [],
   "source": [
    "metrics = clf.metrics()"
   ]
  },
  {
   "cell_type": "code",
   "execution_count": 15,
   "id": "variable-williams",
   "metadata": {
    "scrolled": false
   },
   "outputs": [
    {
     "data": {
      "text/plain": [
       "{'accuracy_train': 0.9145466405740378,\n",
       " 'accuracy_test': 0.715372907153729,\n",
       " 'precision': 0.7103064066852368,\n",
       " 'recall': 0.7544378698224852,\n",
       " 'f1_score': 0.7317073170731707,\n",
       " 'roc_auc_score': 0.714209530522528}"
      ]
     },
     "execution_count": 15,
     "metadata": {},
     "output_type": "execute_result"
    }
   ],
   "source": [
    "metrics"
   ]
  },
  {
   "cell_type": "code",
   "execution_count": null,
   "id": "german-orange",
   "metadata": {},
   "outputs": [],
   "source": []
  }
 ],
 "metadata": {
  "kernelspec": {
   "display_name": "Python 3",
   "language": "python",
   "name": "python3"
  },
  "language_info": {
   "codemirror_mode": {
    "name": "ipython",
    "version": 3
   },
   "file_extension": ".py",
   "mimetype": "text/x-python",
   "name": "python",
   "nbconvert_exporter": "python",
   "pygments_lexer": "ipython3",
   "version": "3.8.3"
  }
 },
 "nbformat": 4,
 "nbformat_minor": 5
}
